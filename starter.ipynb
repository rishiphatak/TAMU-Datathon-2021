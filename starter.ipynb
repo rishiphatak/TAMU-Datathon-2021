{
 "cells": [
  {
   "cell_type": "markdown",
   "metadata": {},
   "source": [
    "# TAMU Datathon 2021 :: Bloomberg INDG Challenge Starter Code"
   ]
  },
  {
   "cell_type": "markdown",
   "metadata": {},
   "source": [
    "## Using BeautifulSoup to parse XML files"
   ]
  },
  {
   "cell_type": "markdown",
   "metadata": {},
   "source": [
    "#### (1) Import BeautifulSoup class from the bs4 module and open \"01-3.xml\" from docs folder for reading"
   ]
  },
  {
   "cell_type": "code",
   "execution_count": null,
   "metadata": {},
   "outputs": [],
   "source": [
    "from bs4 import BeautifulSoup\n",
    "infile = open(\"docs/01-3.xml\", encoding=\"utf8\")"
   ]
  },
  {
   "cell_type": "markdown",
   "metadata": {},
   "source": [
    "#### (2) Parse contents of file and extract &lt;AGENCY> elements"
   ]
  },
  {
   "cell_type": "code",
   "execution_count": null,
   "metadata": {},
   "outputs": [],
   "source": [
    "contents = infile.read()\n",
    "soup = BeautifulSoup(contents, 'xml')\n",
    "agencies = soup.find_all('AGENCY')\n",
    "for agency in agencies:\n",
    "    print(agency.get_text())"
   ]
  },
  {
   "cell_type": "markdown",
   "metadata": {},
   "source": [
    "#### (3) Find the first &lt;FP> tag with the attribute \"SOURCE\" having the value \"FP-2\""
   ]
  },
  {
   "cell_type": "code",
   "execution_count": null,
   "metadata": {},
   "outputs": [],
   "source": [
    "firstTag = soup.find(\"FP\", {\"SOURCE\" : \"FP-2\"})\n",
    "print(firstTag)"
   ]
  },
  {
   "cell_type": "markdown",
   "metadata": {},
   "source": [
    "#### (4) Read multiple XML files in the /docs folder provided. The code below will print the first &lt;AGENCY> tag in each XML file"
   ]
  },
  {
   "cell_type": "code",
   "execution_count": null,
   "metadata": {},
   "outputs": [],
   "source": [
    "import glob\n",
    "import os\n",
    "\n",
    "path = r\"C:\\Users\\jacks\\Desktop\\indg-fed-register\\docs\" # Change this to the path of your /docs folder on your system\n",
    "\n",
    "for filename in glob.glob(os.path.join(path, \"*.xml\")):\n",
    "    with open(filename, encoding=\"mbcs\") as open_file:\n",
    "        content = open_file.read()\n",
    "\n",
    "    soup = BeautifulSoup(content, \"xml\")\n",
    "    print(\"First AGENCY tag in \" + filename[len(path) + 1:] + \": \" + str(soup.find('AGENCY')))"
   ]
  }
 ],
 "metadata": {
  "interpreter": {
   "hash": "2be5faf79681da6f2a61fdfdd5405d65d042280f7fba6178067603e3a2925119"
  },
  "kernelspec": {
   "display_name": "Python 3.10.0 64-bit",
   "name": "python3"
  },
  "language_info": {
   "codemirror_mode": {
    "name": "ipython",
    "version": 3
   },
   "file_extension": ".py",
   "mimetype": "text/x-python",
   "name": "python",
   "nbconvert_exporter": "python",
   "pygments_lexer": "ipython3",
   "version": "3.10.0"
  }
 },
 "nbformat": 4,
 "nbformat_minor": 2
}
